{
 "metadata": {
  "language_info": {
   "codemirror_mode": {
    "name": "ipython",
    "version": 3
   },
   "file_extension": ".py",
   "mimetype": "text/x-python",
   "name": "python",
   "nbconvert_exporter": "python",
   "pygments_lexer": "ipython3",
   "version": "3.6.9-final"
  },
  "orig_nbformat": 2,
  "kernelspec": {
   "name": "python3",
   "display_name": "Python 3.6.9 64-bit",
   "metadata": {
    "interpreter": {
     "hash": "31f2aee4e71d21fbe5cf8b01ff0e069b9275f58929596ceb00d14d90e3e16cd6"
    }
   }
  }
 },
 "nbformat": 4,
 "nbformat_minor": 2,
 "cells": [
  {
   "cell_type": "code",
   "execution_count": 1,
   "metadata": {},
   "outputs": [
    {
     "output_type": "stream",
     "name": "stderr",
     "text": [
      "Matplotlib is building the font cache; this may take a moment.\n"
     ]
    }
   ],
   "source": [
    "import matplotlib.pyplot as plt\n",
    "import numpy as np\n"
   ]
  },
  {
   "cell_type": "code",
   "execution_count": 27,
   "metadata": {},
   "outputs": [
    {
     "output_type": "error",
     "ename": "ValueError",
     "evalue": "could not convert string to float: '3.40188,'",
     "traceback": [
      "\u001b[0;31m---------------------------------------------------------------------------\u001b[0m",
      "\u001b[0;31mValueError\u001b[0m                                Traceback (most recent call last)",
      "\u001b[0;32m<ipython-input-27-9c48b6406a5b>\u001b[0m in \u001b[0;36m<module>\u001b[0;34m\u001b[0m\n\u001b[1;32m      5\u001b[0m \u001b[0;32mfor\u001b[0m \u001b[0mline\u001b[0m \u001b[0;32min\u001b[0m \u001b[0mf\u001b[0m\u001b[0;34m:\u001b[0m\u001b[0;34m\u001b[0m\u001b[0;34m\u001b[0m\u001b[0m\n\u001b[1;32m      6\u001b[0m     \u001b[0mx\u001b[0m\u001b[0;34m,\u001b[0m \u001b[0my\u001b[0m \u001b[0;34m=\u001b[0m \u001b[0mline\u001b[0m\u001b[0;34m.\u001b[0m\u001b[0msplit\u001b[0m\u001b[0;34m(\u001b[0m\u001b[0;34m)\u001b[0m\u001b[0;34m\u001b[0m\u001b[0;34m\u001b[0m\u001b[0m\n\u001b[0;32m----> 7\u001b[0;31m     \u001b[0ma\u001b[0m\u001b[0;34m.\u001b[0m\u001b[0mappend\u001b[0m\u001b[0;34m(\u001b[0m\u001b[0;34m[\u001b[0m\u001b[0mfloat\u001b[0m\u001b[0;34m(\u001b[0m\u001b[0mx\u001b[0m\u001b[0;34m)\u001b[0m\u001b[0;34m,\u001b[0m \u001b[0mfloat\u001b[0m\u001b[0;34m(\u001b[0m\u001b[0my\u001b[0m\u001b[0;34m)\u001b[0m\u001b[0;34m]\u001b[0m\u001b[0;34m)\u001b[0m\u001b[0;34m\u001b[0m\u001b[0;34m\u001b[0m\u001b[0m\n\u001b[0m",
      "\u001b[0;31mValueError\u001b[0m: could not convert string to float: '3.40188,'"
     ]
    }
   ],
   "source": [
    "f = open(\"sample.dat\", 'r')\n",
    "f.readline()\n",
    "\n",
    "a = []\n",
    "for line in f:\n",
    "    x, y = line.split(',')\n",
    "    "
   ]
  },
  {
   "cell_type": "code",
   "execution_count": 17,
   "metadata": {},
   "outputs": [],
   "source": [
    "x = [tmp[0] for tmp in a]\n",
    "y = [tmp[1] for tmp in a]"
   ]
  },
  {
   "cell_type": "code",
   "execution_count": 18,
   "metadata": {},
   "outputs": [
    {
     "output_type": "execute_result",
     "data": {
      "text/plain": [
       "['3.40188,',\n",
       " '2.83099,',\n",
       " '4.11647,',\n",
       " '-1.64777,',\n",
       " '-2.22225,',\n",
       " '-0.226029,',\n",
       " '-1.35216,',\n",
       " '4.5223,',\n",
       " '1.35712,',\n",
       " '-3.58397,',\n",
       " '-4.83699,',\n",
       " '-3.62768,',\n",
       " '-3.43321,',\n",
       " '-3.7021,',\n",
       " '4.98925,',\n",
       " '0.129324,',\n",
       " '1.1264,',\n",
       " '1.37552,',\n",
       " '-0.0641701,',\n",
       " '-2.07483,',\n",
       " '0.26745,',\n",
       " '-0.997714,',\n",
       " '-2.16685,',\n",
       " '3.07725,',\n",
       " '-4.30245,',\n",
       " '0.259954,',\n",
       " '-3.07786,',\n",
       " '3.90233,',\n",
       " '-4.35829,',\n",
       " '-0.422983,',\n",
       " '-2.6172,',\n",
       " '4.02208,',\n",
       " '-2.33334,',\n",
       " '-1.24793,',\n",
       " '0.125354,',\n",
       " '0.316064,',\n",
       " '-0.623624,',\n",
       " '4.3081,',\n",
       " '-2.15707,',\n",
       " '1.39979,',\n",
       " '1.87861,',\n",
       " '-0.598955,',\n",
       " '3.29201,',\n",
       " '-2.71032,',\n",
       " '-1.4964,',\n",
       " '4.56468,',\n",
       " '1.57304,',\n",
       " '-0.604401,',\n",
       " '-1.01563,',\n",
       " '1.84219,',\n",
       " '-0.175093,',\n",
       " '4.50252,',\n",
       " '-3.5234,',\n",
       " '1.41081,',\n",
       " '1.19596,',\n",
       " '2.86002,',\n",
       " '-0.529664,',\n",
       " '-3.12467,',\n",
       " '0.564438,',\n",
       " '-3.30393,',\n",
       " '-3.96829,',\n",
       " '-0.0455593,',\n",
       " '4.84752,',\n",
       " '1.84445,',\n",
       " '2.49771,',\n",
       " '-2.0584,',\n",
       " '0.844885,',\n",
       " '-3.4761,',\n",
       " '-3.74525,',\n",
       " '-3.35898,',\n",
       " '-4.2547,',\n",
       " '-4.47471,',\n",
       " '-3.23789,',\n",
       " '2.97798,',\n",
       " '1.56564,',\n",
       " '1.39458,',\n",
       " '-4.0652,',\n",
       " '0.202101,',\n",
       " '-4.30094,',\n",
       " '-0.385795,',\n",
       " '0.733186,',\n",
       " '-4.48061,',\n",
       " '4.99994,',\n",
       " '3.89956,',\n",
       " '4.97799,',\n",
       " '3.7054,',\n",
       " '-4.95838,',\n",
       " '0.938922,',\n",
       " '-3.36869,',\n",
       " '4.13027,',\n",
       " '-1.40905,',\n",
       " '0.7943,',\n",
       " '1.87387,',\n",
       " '0.30808,',\n",
       " '-1.95705,',\n",
       " '0.769711,',\n",
       " '2.47809,',\n",
       " '-4.64579,',\n",
       " '3.33239,',\n",
       " '3.73271,']"
      ]
     },
     "metadata": {},
     "execution_count": 18
    }
   ],
   "source": [
    "x"
   ]
  },
  {
   "cell_type": "code",
   "execution_count": null,
   "metadata": {},
   "outputs": [],
   "source": []
  }
 ]
}